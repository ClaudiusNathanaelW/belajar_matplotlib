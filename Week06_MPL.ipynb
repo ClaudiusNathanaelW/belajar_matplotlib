{
 "cells": [
  {
   "cell_type": "markdown",
   "id": "d4d96d89",
   "metadata": {},
   "source": [
    "Box Plot, Violin Plot, Twin Axes"
   ]
  },
  {
   "cell_type": "code",
   "execution_count": null,
   "id": "737452ca",
   "metadata": {},
   "outputs": [],
   "source": [
    "%matplotlib inline\n",
    "import matplotlib\n",
    "import matplotlib.pyplot as plt\n",
    "import numpy as np"
   ]
  },
  {
   "cell_type": "code",
   "execution_count": null,
   "id": "eb5d6bef",
   "metadata": {},
   "outputs": [],
   "source": [
    "np.random.seed(2)\n",
    "data = np.random.normal(loc=100, scale=10, size=200)\n",
    "data    "
   ]
  },
  {
   "cell_type": "code",
   "execution_count": null,
   "id": "3f6721fc",
   "metadata": {},
   "outputs": [],
   "source": [
    "plt.boxplot(data, labels=['Data'])\n",
    "\n",
    "plt.title('Simple Box Plot')\n",
    "plt.xlabel('Sumbu X')\n",
    "plt.ylabel('Sumbu Y')\n",
    "plt.grid()\n",
    "plt.show()"
   ]
  },
  {
   "cell_type": "code",
   "execution_count": null,
   "id": "1315e370",
   "metadata": {},
   "outputs": [],
   "source": [
    "plt.boxplot(data, labels=['Data'], notch=True)\n",
    "\n",
    "plt.title('Notched Box Plot')\n",
    "plt.xlabel('Sumbu X')\n",
    "plt.ylabel('Sumbu Y')\n",
    "\n",
    "plt.show()"
   ]
  },
  {
   "cell_type": "code",
   "execution_count": null,
   "id": "a9f0f367",
   "metadata": {},
   "outputs": [],
   "source": [
    "plt.boxplot(data, labels=['Data'], showfliers=True, flierprops={'markerfacecolor':'r', 'marker':'d'})\n",
    "\n",
    "plt.title('Pengaturan Marker')\n",
    "plt.xlabel('Sumbu X')\n",
    "plt.ylabel('Sumbu Y')\n",
    "\n",
    "plt.show()"
   ]
  },
  {
   "cell_type": "code",
   "execution_count": null,
   "id": "cde836ac",
   "metadata": {},
   "outputs": [],
   "source": [
    "plt.boxplot(data, labels=['Data'], vert=False)\n",
    "plt.title('Horizontal Box Plot')\n",
    "plt.xlabel('Sumbu X')\n",
    "plt.ylabel('Sumbu Y')\n",
    "\n",
    "plt.show()"
   ]
  },
  {
   "cell_type": "code",
   "execution_count": null,
   "id": "5a5c560d",
   "metadata": {},
   "outputs": [],
   "source": [
    "np.random.seed(10)\n",
    "data1 = np.random.normal(100, 10, 200)\n",
    "data2 = np.random.normal(80, 30, 200)\n",
    "data3 = np.random.normal(90, 20, 200)\n",
    "data4 = np.random.normal(70, 25, 200)\n",
    "data = [data1, data2, data3, data4]\n",
    "labels = ['Data 1', 'Data 2', 'Data 3', 'Data 4']"
   ]
  },
  {
   "cell_type": "code",
   "execution_count": null,
   "id": "5940a8b8",
   "metadata": {},
   "outputs": [],
   "source": [
    "plt.boxplot(data, labels=labels)\n",
    "\n",
    "plt.title('Multiple Box Plots')\n",
    "plt.xlabel('Sumbu X')\n",
    "plt.ylabel('Sumbu Y')\n",
    "\n",
    "plt.show()"
   ]
  },
  {
   "cell_type": "markdown",
   "id": "6df004ec",
   "metadata": {},
   "source": [
    "Violin Chart"
   ]
  },
  {
   "cell_type": "code",
   "execution_count": null,
   "id": "ea27b53f",
   "metadata": {},
   "outputs": [],
   "source": [
    "np.random.seed(2)\n",
    "data = np.random.normal(loc=100, scale=20, size=100)\n",
    "data\n"
   ]
  },
  {
   "cell_type": "code",
   "execution_count": null,
   "id": "8b0a4583",
   "metadata": {},
   "outputs": [],
   "source": [
    "plt.violinplot(data)\n",
    "\n",
    "plt.title('Violin Plot')\n",
    "plt.xlabel('Sumbu X')\n",
    "plt.ylabel('Sumbu Y')\n",
    "\n",
    "plt.show() "
   ]
  },
  {
   "cell_type": "code",
   "execution_count": null,
   "id": "93b607a6",
   "metadata": {},
   "outputs": [],
   "source": [
    "plt.violinplot(data, showextrema=False, showmeans=True, showmedians=False, quantiles=[0.25, 0.5, 0.75])\n",
    "\n",
    "plt.title('Violin Plot')\n",
    "plt.xlabel('Sumbu X')\n",
    "plt.ylabel('Sumbu Y')\n",
    "\n",
    "plt.show() "
   ]
  },
  {
   "cell_type": "code",
   "execution_count": null,
   "id": "d25714fa",
   "metadata": {},
   "outputs": [],
   "source": [
    "plt.violinplot(data, vert=False)\n",
    "plt.title('Horizontal Violin Plot')\n",
    "plt.xlabel('Sumbu X')\n",
    "plt.ylabel('Sumbu Y')\n",
    "\n",
    "plt.show() "
   ]
  },
  {
   "cell_type": "code",
   "execution_count": null,
   "id": "f6fca22d",
   "metadata": {},
   "outputs": [],
   "source": [
    "np.random.seed(10)\n",
    "data1 = np.random.normal(100, 10, 200)\n",
    "data2 = np.random.normal(80, 30, 200)\n",
    "data3 = np.random.normal(90, 20, 200)\n",
    "data4 = np.random.normal(70, 25, 200)\n",
    "data = [data1, data2, data3, data4]\n",
    "\n",
    "plt.violinplot(data)\n",
    "plt.title('Multiple Violin Plots')\n",
    "plt.xlabel('Sumbu X')\n",
    "plt.ylabel('Sumbu Y')\n",
    "\n",
    "plt.show()"
   ]
  },
  {
   "cell_type": "markdown",
   "id": "a721ad5d",
   "metadata": {},
   "source": [
    "Twin Axes"
   ]
  },
  {
   "cell_type": "code",
   "execution_count": null,
   "id": "391969ef",
   "metadata": {},
   "outputs": [],
   "source": [
    "x = np.linspace(1, 10, 25)\n",
    "x"
   ]
  },
  {
   "cell_type": "code",
   "execution_count": null,
   "id": "2e092167",
   "metadata": {},
   "outputs": [],
   "source": [
    "fix, ax1 = plt.subplots()\n",
    "\n",
    "ax1.plot(x, np.exp(x), 'bs-',label='exp')\n",
    "ax1.set_xlabel('Sumbu X')\n",
    "ax1.set_ylabel('Exp')\n",
    "\n",
    "ax2 = ax1.twinx()\n",
    "ax2.plot(x, np.log(x), 'ro-', label='log')\n",
    "ax2.set_ylabel('Log')\n",
    "\n",
    "fig.suptitle('Contoh Twin Axes')\n",
    "fig.legend(loc='upper left')\n",
    "\n",
    "fig.show()"
   ]
  },
  {
   "cell_type": "code",
   "execution_count": null,
   "id": "61fd0a7d",
   "metadata": {},
   "outputs": [],
   "source": [
    "x = np.random.randint(16, 40, size=30)\n",
    "\n",
    "def C2F(celsius=0):\n",
    "    return (celsius * 1.8) + 32\n",
    "\n",
    "def konversi_sumbu(ax1):\n",
    "    y1, y2 = ax1.get_ylim()\n",
    "    ax2.set_ylim(C2F(y1), C2F(y2))\n",
    "    ax2.figure.canvas.draw()\n",
    "    \n",
    "fig, ax1 = plt.subplots()\n",
    "ax2 = ax1.twinx()\n",
    "\n",
    "ax1.callbacks.connect(\"ylim_changed\", konversi_sumbu)\n",
    "ax1.plot(x)\n",
    "\n",
    "ax1.set_xlabel('Hari')\n",
    "ax1.set_ylabel('Celsius (°C)')\n",
    "ax2.set_ylabel('Fahrenheit (°F)')\n",
    "\n",
    "fig.suptitle('Temperatur Udara')\n",
    "fig.show()"
   ]
  }
 ],
 "metadata": {
  "kernelspec": {
   "display_name": "Python 3",
   "language": "python",
   "name": "python3"
  },
  "language_info": {
   "codemirror_mode": {
    "name": "ipython",
    "version": 3
   },
   "file_extension": ".py",
   "mimetype": "text/x-python",
   "name": "python",
   "nbconvert_exporter": "python",
   "pygments_lexer": "ipython3",
   "version": "3.12.10"
  }
 },
 "nbformat": 4,
 "nbformat_minor": 5
}
