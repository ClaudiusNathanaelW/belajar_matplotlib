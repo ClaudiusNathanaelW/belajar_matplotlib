{
 "cells": [
  {
   "cell_type": "markdown",
   "id": "5f5d875c",
   "metadata": {},
   "source": [
    "Matplotlib Week 02, 28/09/2025"
   ]
  },
  {
   "cell_type": "code",
   "execution_count": null,
   "id": "5661fbcc",
   "metadata": {},
   "outputs": [],
   "source": [
    "import matplotlib\n",
    "import numpy as np"
   ]
  },
  {
   "cell_type": "code",
   "execution_count": null,
   "id": "dbb9883d",
   "metadata": {},
   "outputs": [],
   "source": [
    "import matplotlib.pyplot as plt\n",
    "# membuat plot sederhana\n",
    "plt.plot([2,5,7,11],[5,4,2,16])\n",
    "plt.ylabel('sumbu y')\n",
    "plt.show()"
   ]
  },
  {
   "cell_type": "code",
   "execution_count": null,
   "id": "758ba6f4",
   "metadata": {},
   "outputs": [],
   "source": [
    "# plt.plot(x, y, 'ro') untuk membuat Scatter Plot\n",
    "# plt.plot(x, y, 'g-') untuk membuat Line chart\n",
    "# plt.plot(x, y, 'g*') untuk membuat Scatter Plot dengan marker bintang\n",
    "# plt.plot(x, y, 'g--') untuk membuat Line chart dengan garis putus\n",
    "# plt.plot(x, y, 'g^') untuk membuat Scatter Plot dengan marker segitiga\n",
    "# plt.plot(x, y, 'g:') untuk membuat Line chart dengan garis titik-t\n",
    "# plt.axis([xmin, xmax, ymin, ymax])\n",
    "\n",
    "plt.plot([1,2,3,4],[1,4,8,16], 'g*') \n",
    "plt.axis([0, 10, 0, 20])\n",
    "plt.show()"
   ]
  },
  {
   "cell_type": "markdown",
   "id": "5b9ad1aa",
   "metadata": {},
   "source": [
    "Multi Plot dalam 1 Output"
   ]
  },
  {
   "cell_type": "code",
   "execution_count": null,
   "id": "db3197c3",
   "metadata": {},
   "outputs": [],
   "source": [
    "import numpy as np\n",
    "t = np.arange(0., 5., 0.2)\n",
    "t\n",
    "plt.plot(t, t, 'r--')\n",
    "plt.plot(t, t**2, 'bs')\n",
    "plt.plot(t, t**3, 'g^')\n",
    "plt.show()  "
   ]
  },
  {
   "cell_type": "markdown",
   "id": "460ee6c8",
   "metadata": {},
   "source": [
    "Plotting dengan keywords"
   ]
  },
  {
   "cell_type": "code",
   "execution_count": null,
   "id": "e67e0f0a",
   "metadata": {},
   "outputs": [],
   "source": [
    "data = {'a': np.arange(50),\n",
    "        'c': np.random.randint(0, 50, 50),\n",
    "        'd': np.random.randn(50)}\n",
    "data['b'] = data['a'] + 10 * np.random.randn(50)\n",
    "data['d'] = np.abs(data['d']) * 100\n",
    "\n",
    "data"
   ]
  },
  {
   "cell_type": "code",
   "execution_count": null,
   "id": "18c15aed",
   "metadata": {},
   "outputs": [],
   "source": [
    "plt.scatter('a', 'b', c='c', s='d', data=data)\n",
    "plt.xlabel('entry a')\n",
    "plt.ylabel('entry b')\n",
    "plt.show()\n"
   ]
  },
  {
   "cell_type": "markdown",
   "id": "e3590791",
   "metadata": {},
   "source": [
    "Plotting untuk tipe data kategorial"
   ]
  },
  {
   "cell_type": "code",
   "execution_count": null,
   "id": "e4f54530",
   "metadata": {},
   "outputs": [],
   "source": [
    "names = ['group_a', 'group_b', 'group_c']   \n",
    "values = [1, 10, 100]   \n",
    "plt.plot(names, values)\n",
    "plt.show()"
   ]
  },
  {
   "cell_type": "code",
   "execution_count": null,
   "id": "f9b05737",
   "metadata": {},
   "outputs": [],
   "source": [
    "plt.scatter(names, values) \n",
    "plt.show()  "
   ]
  },
  {
   "cell_type": "code",
   "execution_count": null,
   "id": "f71efa95",
   "metadata": {},
   "outputs": [],
   "source": [
    "plt.bar(names, values)\n",
    "plt.show() "
   ]
  }
 ],
 "metadata": {
  "kernelspec": {
   "display_name": "Python 3",
   "language": "python",
   "name": "python3"
  },
  "language_info": {
   "codemirror_mode": {
    "name": "ipython",
    "version": 3
   },
   "file_extension": ".py",
   "mimetype": "text/x-python",
   "name": "python",
   "nbconvert_exporter": "python",
   "pygments_lexer": "ipython3",
   "version": "3.12.10"
  }
 },
 "nbformat": 4,
 "nbformat_minor": 5
}
