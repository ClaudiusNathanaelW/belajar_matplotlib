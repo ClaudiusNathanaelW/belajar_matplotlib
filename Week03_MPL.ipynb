{
 "cells": [
  {
   "cell_type": "markdown",
   "id": "557170b4",
   "metadata": {},
   "source": [
    "Membuat multiple subplots dan histogram"
   ]
  },
  {
   "cell_type": "code",
   "execution_count": null,
   "id": "1ca483aa",
   "metadata": {},
   "outputs": [],
   "source": [
    "%matplotlib inline"
   ]
  },
  {
   "cell_type": "code",
   "execution_count": null,
   "id": "9d933513",
   "metadata": {},
   "outputs": [],
   "source": [
    "import matplotlib\n",
    "import matplotlib.pyplot as plt\n",
    "import numpy as np"
   ]
  },
  {
   "cell_type": "markdown",
   "id": "0d7ed6d1",
   "metadata": {},
   "source": [
    "Simple Line Plot"
   ]
  },
  {
   "cell_type": "code",
   "execution_count": null,
   "id": "ec04e49d",
   "metadata": {},
   "outputs": [],
   "source": [
    "x = np.arange(0.0, 2.0, 0.01)\n",
    "s = np.sin(2 * np.pi * x)\n",
    "fig, ax = plt.subplots()\n",
    "\n",
    "ax.plot(x, s)\n",
    "ax.set(xlabel='nilai x', ylabel='nilai y',title ='Visualisasi Nilai Sin')\n",
    "ax.grid()\n",
    "plt.show()"
   ]
  },
  {
   "cell_type": "markdown",
   "id": "370b7c33",
   "metadata": {},
   "source": [
    "Multiple Subplots dengan OO style"
   ]
  },
  {
   "cell_type": "code",
   "execution_count": null,
   "id": "a2427cbc",
   "metadata": {},
   "outputs": [],
   "source": [
    "x1 = np.linspace(0.0, 5.0, 100)\n",
    "x2 = np.linspace(0.0, 2.0, 100)\n",
    "\n",
    "y1 = np.cos(2 * np.pi * x1)\n",
    "y2 = np.cos(2 * np.pi * x2)\n",
    "\n",
    "fig, (ax1, ax2) = plt.subplots(2,1)\n",
    "fig.suptitle('Multiple Subplots')\n",
    "\n",
    "ax1.plot(x1, y1, 'ro-')\n",
    "ax1.set_ylabel('nilai cos(x1)')\n",
    "\n",
    "ax2.plot(x2, y2, 'g.-') \n",
    "ax2.set_ylabel('nilai cos(x2)')\n",
    "ax2.set_xlabel('nilai x')"
   ]
  },
  {
   "cell_type": "markdown",
   "id": "51303f17",
   "metadata": {},
   "source": [
    "Multiple Subplots dengan pyplot style"
   ]
  },
  {
   "cell_type": "code",
   "execution_count": null,
   "id": "55d0ec84",
   "metadata": {},
   "outputs": [],
   "source": [
    "plt.subplot(2,1,1)\n",
    "plt.plot(x1, y1, 'ro-')\n",
    "plt.title('Multiple Subplots')\n",
    "plt.ylabel('nilai $cos(x1)$')\n",
    "\n",
    "plt.subplot(2,1,2)\n",
    "plt.plot(x2, y2, 'g.-')\n",
    "plt.ylabel('nilai $cos(x2)$')\n",
    "plt.xlabel('nilai $x$')\n",
    "\n",
    "plt.show()"
   ]
  },
  {
   "cell_type": "markdown",
   "id": "d1634791",
   "metadata": {},
   "source": [
    "Membuat Histogram"
   ]
  },
  {
   "cell_type": "code",
   "execution_count": null,
   "id": "8fd84dfe",
   "metadata": {},
   "outputs": [],
   "source": [
    "mu, sigma = 100, 15\n",
    "x = mu + sigma * np.random.randn(10000)\n",
    "x.shape"
   ]
  },
  {
   "cell_type": "code",
   "execution_count": null,
   "id": "b7eb48e1",
   "metadata": {},
   "outputs": [],
   "source": [
    "plt.hist(x, bins=50, density=True, alpha=0.75, color='g')\n",
    "plt.xlabel('Sumbu X')\n",
    "plt.ylabel('Sumbu Y')\n",
    "plt.title('Contoh Histogram')\n",
    "plt.Text(45, 500, r'$\\mu=100,\\ \\sigma=15$')\n",
    "plt.grid()\n",
    "plt.show()"
   ]
  }
 ],
 "metadata": {
  "kernelspec": {
   "display_name": "Python 3",
   "language": "python",
   "name": "python3"
  },
  "language_info": {
   "codemirror_mode": {
    "name": "ipython",
    "version": 3
   },
   "file_extension": ".py",
   "mimetype": "text/x-python",
   "name": "python",
   "nbconvert_exporter": "python",
   "pygments_lexer": "ipython3",
   "version": "3.12.10"
  }
 },
 "nbformat": 4,
 "nbformat_minor": 5
}
