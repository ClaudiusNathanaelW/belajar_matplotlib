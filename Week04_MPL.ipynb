{
 "cells": [
  {
   "cell_type": "markdown",
   "id": "3782406e",
   "metadata": {},
   "source": [
    "Matplotlib Week 04"
   ]
  },
  {
   "cell_type": "markdown",
   "id": "c142c62a",
   "metadata": {},
   "source": [
    "Bar Plot | Bar Chart"
   ]
  },
  {
   "cell_type": "code",
   "execution_count": null,
   "id": "eb4aa4bf",
   "metadata": {},
   "outputs": [],
   "source": [
    "%matplotlib inline\n",
    "import matplotlib\n",
    "import matplotlib.pyplot as plt\n",
    "import numpy as np  "
   ]
  },
  {
   "cell_type": "code",
   "execution_count": null,
   "id": "6f767dad",
   "metadata": {},
   "outputs": [],
   "source": [
    "data = [25, 45, 55, 125, 255]\n",
    "kategori = ['A', 'B', 'C', 'D', 'E']\n",
    "plt.bar(kategori, data)\n",
    "plt.grid()\n",
    "\n",
    "plt.xlabel('Kategori')\n",
    "plt.ylabel('Jumlah')\n",
    "plt.title('Contoh Bar Plot')\n",
    "\n",
    "plt.show()"
   ]
  },
  {
   "cell_type": "code",
   "execution_count": null,
   "id": "81d7024c",
   "metadata": {},
   "outputs": [],
   "source": [
    "plt.bar(kategori, data,color='red',alpha=0.25)\n",
    "plt.grid(linestyle='--',linewidth=2,axis='y',alpha=0.50)\n",
    "\n",
    "plt.xlabel('Kategori')\n",
    "plt.ylabel('Jumlah')\n",
    "plt.title('Contoh Bar Plot')\n",
    "\n",
    "plt.show()"
   ]
  },
  {
   "cell_type": "code",
   "execution_count": null,
   "id": "04964faf",
   "metadata": {},
   "outputs": [],
   "source": [
    "plt.barh(kategori, data)\n",
    "\n",
    "plt.grid(linestyle='--',linewidth=1,axis='x',alpha=0.75)\n",
    "plt.xlabel('Kategori')\n",
    "plt.ylabel('Jumlah')    \n",
    "plt.title('Contoh Horizontal Bar Plot')  "
   ]
  },
  {
   "cell_type": "code",
   "execution_count": null,
   "id": "6545453a",
   "metadata": {},
   "outputs": [],
   "source": [
    "data1 = [25, 85, 75, 40, 60]\n",
    "data2 = [40, 35, 20, 55, 10]\n",
    "kategori = ['A', 'B', 'C', 'D', 'E']\n",
    "\n",
    "plt.bar(kategori, data1, label='Data 1')\n",
    "plt.bar(kategori, data2, label='Data 2')\n",
    "\n",
    "plt.legend()\n",
    "\n",
    "plt.grid(linestyle='--',linewidth=1,axis='y',alpha=0.75)\n",
    "plt.xlabel('Kategori')\n",
    "plt.ylabel('Jumlah')    \n",
    "plt.title('Contoh Stacked Bar Plot')   "
   ]
  },
  {
   "cell_type": "code",
   "execution_count": null,
   "id": "4e7fde6a",
   "metadata": {},
   "outputs": [],
   "source": [
    "x = np.arange(len(kategori))\n",
    "width = 0.35\n",
    "\n",
    "plt.bar(x - width/2, data1, width, label='Data 1')\n",
    "plt.bar(x + width/2, data2, width, label='Data 2')  \n",
    "\n",
    "plt.xticks(x, kategori)\n",
    "plt.grid(linestyle='--',linewidth=1,axis='y',alpha=0.75)\n",
    "\n",
    "plt.xlabel('Kategori')\n",
    "plt.ylabel('Jumlah')    \n",
    "plt.title('Contoh Grouped Bar Plot')    "
   ]
  },
  {
   "cell_type": "markdown",
   "id": "657f54e9",
   "metadata": {},
   "source": [
    "Pie Plot"
   ]
  },
  {
   "cell_type": "code",
   "execution_count": null,
   "id": "eef89176",
   "metadata": {},
   "outputs": [],
   "source": [
    "kategori = ['A', 'B', 'C', 'D', 'E']\n",
    "data = [215, 130, 245, 210, 225]\n",
    "warna = ['pink', 'cyan', 'lightblue', 'lightgreen', '#ff9999']\n",
    "plt.pie(data, labels=kategori, autopct='%1.1f%%', startangle=80)\n",
    "plt.title('Contoh Pie Plot')\n",
    "\n",
    "plt.show()"
   ]
  },
  {
   "cell_type": "markdown",
   "id": "1bc71a61",
   "metadata": {},
   "source": [
    "Exploded Pie pLot"
   ]
  },
  {
   "cell_type": "code",
   "execution_count": null,
   "id": "76e2c9d9",
   "metadata": {},
   "outputs": [],
   "source": [
    "kategori = ['A', 'B', 'C', 'D', 'E']\n",
    "data = [215, 130, 245, 210, 255]\n",
    "warna = ['pink', 'cyan', 'lightblue', 'lightgreen', '#ff9999']\n",
    "explode_var = (0., 0., 0.2, 0., 0.08)\n",
    "\n",
    "plt.pie(data, labels=kategori, autopct='%1.1f%%', startangle=90, explode=explode_var, colors=warna, shadow=True)   \n",
    "plt.title('Contoh Exploded Pie Plot')\n",
    "plt.show()"
   ]
  },
  {
   "cell_type": "markdown",
   "id": "b388474f",
   "metadata": {},
   "source": [
    "Table Plot | Table Chart"
   ]
  },
  {
   "cell_type": "code",
   "execution_count": null,
   "id": "95847680",
   "metadata": {},
   "outputs": [],
   "source": [
    "data_uas = [['Bejo', 70], ['Anwar', 83], ['Cici', 62], ['Dodi', 74], ['Eka', 71]]\n",
    "fig, ax = plt.subplots()    \n",
    "table = plt.table(cellText=data_uas, colLabels=['Nama', 'Nilai UAS'], loc='center')\n",
    "table.set_fontsize(18)\n",
    "table.scale(0.5, 3)\n",
    "\n",
    "ax.axis(False)\n",
    "plt.show()"
   ]
  },
  {
   "cell_type": "code",
   "execution_count": null,
   "id": "9caed027",
   "metadata": {},
   "outputs": [],
   "source": [
    "table = plt.table(cellText=data_uas, colLabels=['Nama', 'Nilai UAS'], loc='center', cellLoc='center', colColours=['lightblue']*2)\n",
    "table.set_fontsize(18)\n",
    "table.scale(0.5, 3)\n",
    "\n",
    "ax = plt.gca()\n",
    "ax.axis(False)\n",
    "\n",
    "plt.show()"
   ]
  }
 ],
 "metadata": {
  "kernelspec": {
   "display_name": "Python 3",
   "language": "python",
   "name": "python3"
  },
  "language_info": {
   "codemirror_mode": {
    "name": "ipython",
    "version": 3
   },
   "file_extension": ".py",
   "mimetype": "text/x-python",
   "name": "python",
   "nbconvert_exporter": "python",
   "pygments_lexer": "ipython3",
   "version": "3.12.10"
  }
 },
 "nbformat": 4,
 "nbformat_minor": 5
}
