{
 "cells": [
  {
   "cell_type": "markdown",
   "id": "e7efe6bf",
   "metadata": {},
   "source": [
    "Matplotlib Week 05 Scatter Plot Matplotlib Style"
   ]
  },
  {
   "cell_type": "code",
   "execution_count": null,
   "id": "0b0169f0",
   "metadata": {},
   "outputs": [],
   "source": [
    "%matplotlib inline\n",
    "import matplotlib\n",
    "import matplotlib.pyplot as plt\n"
   ]
  },
  {
   "cell_type": "code",
   "execution_count": null,
   "id": "20486e2f",
   "metadata": {},
   "outputs": [],
   "source": [
    "x = [2,4,6,8,10,11,11.5,11.7]\n",
    "y = [1,1.5,2,2.5,3,3.5,4,4.5]\n",
    "plt.scatter(x, y, label='Data 1', color='r')\n",
    "plt.xlabel('Sumbu X')\n",
    "plt.ylabel('Sumbu Y')\n",
    "plt.title('Contoh Scatter Plot')\n",
    "plt.legend()\n",
    "plt.show()"
   ]
  },
  {
   "cell_type": "code",
   "execution_count": null,
   "id": "d5ed9dd0",
   "metadata": {},
   "outputs": [],
   "source": [
    "x1 = [2,4,6,8,10,11,11.5,11.7]\n",
    "y1 = [1,1.5,2,2.5,3,3.5,4,4.5]\n",
    "x2 = [8,8.5,9,9.5,10,10.5,11]\n",
    "y2 = [3,3.5,3.7,4,4.5,5,5.2]\n",
    "plt.scatter(x1, y1, label='Data 1', color='r')\n",
    "plt.scatter(x2, y2, label='Data 2', color='b')\n",
    "\n",
    "plt.xlabel('Sumbu X')\n",
    "plt.ylabel('Sumbu Y')\n",
    "plt.title('Multiple Scatter Plot')\n",
    "plt.legend()\n",
    "plt.show()"
   ]
  },
  {
   "cell_type": "code",
   "execution_count": null,
   "id": "fd25a649",
   "metadata": {},
   "outputs": [],
   "source": [
    "x1 = [2,4,6,8,10,11,11.5,11.7]\n",
    "y1 = [1,1.5,2,2.5,3,3.5,4,4.5]\n",
    "x2 = [8,8.5,9,9.5,10,10.5,11]\n",
    "y2 = [3,3.5,3.7,4,4.5,5,5.2]\n",
    "\n",
    "plt.scatter(x1, y1, color='cyan',linewidths=1, marker='s',edgecolors='red',s=100)\n",
    "plt.scatter(x2, y2, color='yellow',linewidths=1, marker='^',edgecolors='blue',s=200)\n",
    "plt.show()"
   ]
  },
  {
   "cell_type": "code",
   "execution_count": null,
   "id": "9060de71",
   "metadata": {},
   "outputs": [],
   "source": [
    "from sklearn.datasets import load_iris \n",
    "iris.keys()\n",
    "iris['data']\n",
    "iris['feature_names']\n",
    "features = iris['data'].T\n",
    "iris['target']\n",
    "iris['target_names']\n",
    "plt.scatter(features[0], features[1], alpha=0.2,s=100*features[3], c=iris['target'])\n",
    "plt.xlabel(iris['feature_names'][0])\n",
    "plt.ylabel(iris['feature_names'][1])    \n",
    "plt.title('Iris Dataset Scatter Plot')\n",
    "plt.colorbar()\n",
    "plt.show()"
   ]
  },
  {
   "cell_type": "markdown",
   "id": "e546352d",
   "metadata": {},
   "source": [
    "Matplotlib Style"
   ]
  },
  {
   "cell_type": "code",
   "execution_count": null,
   "id": "124beb6a",
   "metadata": {},
   "outputs": [],
   "source": [
    "from matplotlib import style\n",
    "import numpy as np  "
   ]
  },
  {
   "cell_type": "code",
   "execution_count": null,
   "id": "07a5a673",
   "metadata": {},
   "outputs": [],
   "source": [
    "def gambar_barplot():\n",
    "    data1= [25,85,75,40,60]\n",
    "    data2= [40,35,20,55,10]\n",
    "    kategori = ['A','B','C','D','E']\n",
    "    \n",
    "    x = np.arange(len(kategori))  # posisi kategori\n",
    "    width = 0.35  # lebar bar\n",
    "    \n",
    "    plt.bar(x - width/2, data1, width, label='Data 1')\n",
    "    plt.bar(x + width/2, data2, width, label='Data 2')\n",
    "    plt.xticks(x, kategori)\n",
    "    \n",
    "    plt.grid(linestyle='--', linewidth=1,axis='y',alpha=0.75)\n",
    "    plt.xlabel('Kategori')\n",
    "    plt.ylabel('Jumlah')\n",
    "    plt.title('Contoh Grouped Bar Plot')\n",
    "    plt.legend()\n",
    "    plt.show()\n",
    "    \n",
    "gambar_barplot()"
   ]
  },
  {
   "cell_type": "code",
   "execution_count": null,
   "id": "06bed294",
   "metadata": {},
   "outputs": [],
   "source": [
    "plt.style.available\n",
    "plt.style.use('ggplot')\n"
   ]
  },
  {
   "cell_type": "code",
   "execution_count": null,
   "id": "9f198fd4",
   "metadata": {},
   "outputs": [],
   "source": [
    "\n",
    "plt.style.use('fivethirtyeight')\n",
    "gambar_barplot()"
   ]
  },
  {
   "cell_type": "code",
   "execution_count": null,
   "id": "e1d505f1",
   "metadata": {},
   "outputs": [],
   "source": [
    "plt.style.use('bmh')\n",
    "gambar_barplot()"
   ]
  }
 ],
 "metadata": {
  "kernelspec": {
   "display_name": "Python 3",
   "language": "python",
   "name": "python3"
  },
  "language_info": {
   "codemirror_mode": {
    "name": "ipython",
    "version": 3
   },
   "file_extension": ".py",
   "mimetype": "text/x-python",
   "name": "python",
   "nbconvert_exporter": "python",
   "pygments_lexer": "ipython3",
   "version": "3.12.10"
  }
 },
 "nbformat": 4,
 "nbformat_minor": 5
}
